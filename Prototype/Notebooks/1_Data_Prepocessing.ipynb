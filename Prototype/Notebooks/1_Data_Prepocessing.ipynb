{
 "cells": [
  {
   "cell_type": "markdown",
   "id": "0a2ce6c1-35b2-4f46-9637-615a729ae225",
   "metadata": {},
   "source": [
    "# Data Cleanup and Preprocessing"
   ]
  },
  {
   "cell_type": "markdown",
   "id": "3ce2e427-256f-405f-88c7-0fdf33c330a6",
   "metadata": {},
   "source": [
    "Before using the CIC-IDS 2017 Dataset, the data has to be preprocessed and cleaned. The raw files are 7 csv files containing the recorded network traffic for 5 working days with benign traffic and various attacks (Brute Force Attack, Heart Bleed Attack, Botnet, Dos Attack, DDos Attack, Web Attack (SQL Injection, XSS, Brute Force), Infiltration Attack)"
   ]
  },
  {
   "cell_type": "code",
   "execution_count": 1,
   "id": "42fb5496-8efd-4944-899f-bb36793d0a13",
   "metadata": {},
   "outputs": [],
   "source": [
    "import numpy as np\n",
    "import pandas as pd\n",
    "import os"
   ]
  },
  {
   "cell_type": "markdown",
   "id": "d0d48e2d-8294-433a-8585-0523223450b2",
   "metadata": {},
   "source": [
    "## 1. Exploring one file from the dataset"
   ]
  },
  {
   "cell_type": "markdown",
   "id": "1460d22f-e6bb-4c0e-938d-e15e0700b707",
   "metadata": {},
   "source": [
    "To understand the dataset, one file is loaded and analyzed before processing all of the files"
   ]
  },
  {
   "cell_type": "code",
   "execution_count": 2,
   "id": "ffdda22c-853b-4c36-b8bd-a348251d76ef",
   "metadata": {},
   "outputs": [
    {
     "name": "stdout",
     "output_type": "stream",
     "text": [
      "<class 'pandas.core.frame.DataFrame'>\n",
      "RangeIndex: 529918 entries, 0 to 529917\n",
      "Data columns (total 80 columns):\n",
      " #   Column                       Non-Null Count   Dtype  \n",
      "---  ------                       --------------   -----  \n",
      " 0   Destination Port             529918 non-null  int64  \n",
      " 1   Protocol                     529918 non-null  int64  \n",
      " 2   Flow Duration                529918 non-null  int64  \n",
      " 3   Total Fwd Packets            529918 non-null  int64  \n",
      " 4   Total Backward Packets       529918 non-null  int64  \n",
      " 5   Total Length of Fwd Packets  529918 non-null  float64\n",
      " 6   Total Length of Bwd Packets  529918 non-null  float64\n",
      " 7   Fwd Packet Length Max        529918 non-null  float64\n",
      " 8   Fwd Packet Length Min        529918 non-null  float64\n",
      " 9   Fwd Packet Length Mean       529918 non-null  float64\n",
      " 10  Fwd Packet Length Std        529918 non-null  float64\n",
      " 11  Bwd Packet Length Max        529918 non-null  float64\n",
      " 12  Bwd Packet Length Min        529918 non-null  float64\n",
      " 13  Bwd Packet Length Mean       529918 non-null  float64\n",
      " 14  Bwd Packet Length Std        529918 non-null  float64\n",
      " 15  Flow Bytes/s                 529854 non-null  float64\n",
      " 16  Flow Packets/s               529918 non-null  float64\n",
      " 17  Flow IAT Mean                529918 non-null  float64\n",
      " 18  Flow IAT Std                 529918 non-null  float64\n",
      " 19  Flow IAT Max                 529918 non-null  float64\n",
      " 20  Flow IAT Min                 529918 non-null  float64\n",
      " 21  Fwd IAT Total                529918 non-null  float64\n",
      " 22  Fwd IAT Mean                 529918 non-null  float64\n",
      " 23  Fwd IAT Std                  529918 non-null  float64\n",
      " 24  Fwd IAT Max                  529918 non-null  float64\n",
      " 25  Fwd IAT Min                  529918 non-null  float64\n",
      " 26  Bwd IAT Total                529918 non-null  float64\n",
      " 27  Bwd IAT Mean                 529918 non-null  float64\n",
      " 28  Bwd IAT Std                  529918 non-null  float64\n",
      " 29  Bwd IAT Max                  529918 non-null  float64\n",
      " 30  Bwd IAT Min                  529918 non-null  float64\n",
      " 31  Fwd PSH Flags                529918 non-null  int64  \n",
      " 32  Bwd PSH Flags                529918 non-null  int64  \n",
      " 33  Fwd URG Flags                529918 non-null  int64  \n",
      " 34  Bwd URG Flags                529918 non-null  int64  \n",
      " 35  Fwd Header Length            529918 non-null  int64  \n",
      " 36  Bwd Header Length            529918 non-null  int64  \n",
      " 37  Fwd Packets/s                529918 non-null  float64\n",
      " 38  Bwd Packets/s                529918 non-null  float64\n",
      " 39  Min Packet Length            529918 non-null  float64\n",
      " 40  Max Packet Length            529918 non-null  float64\n",
      " 41  Packet Length Mean           529918 non-null  float64\n",
      " 42  Packet Length Std            529918 non-null  float64\n",
      " 43  Packet Length Variance       529918 non-null  float64\n",
      " 44  FIN Flag Count               529918 non-null  int64  \n",
      " 45  SYN Flag Count               529918 non-null  int64  \n",
      " 46  RST Flag Count               529918 non-null  int64  \n",
      " 47  PSH Flag Count               529918 non-null  int64  \n",
      " 48  ACK Flag Count               529918 non-null  int64  \n",
      " 49  URG Flag Count               529918 non-null  int64  \n",
      " 50  CWE Flag Count               529918 non-null  int64  \n",
      " 51  ECE Flag Count               529918 non-null  int64  \n",
      " 52  Down/Up Ratio                529918 non-null  float64\n",
      " 53  Average Packet Size          529918 non-null  float64\n",
      " 54  Avg Fwd Segment Size         529918 non-null  float64\n",
      " 55  Avg Bwd Segment Size         529918 non-null  float64\n",
      " 56  Fwd Header Length.1          529918 non-null  int64  \n",
      " 57  Fwd Avg Bytes/Bulk           529918 non-null  int64  \n",
      " 58  Fwd Avg Packets/Bulk         529918 non-null  int64  \n",
      " 59  Fwd Avg Bulk Rate            529918 non-null  int64  \n",
      " 60  Bwd Avg Bytes/Bulk           529918 non-null  int64  \n",
      " 61  Bwd Avg Packets/Bulk         529918 non-null  int64  \n",
      " 62  Bwd Avg Bulk Rate            529918 non-null  int64  \n",
      " 63  Subflow Fwd Packets          529918 non-null  int64  \n",
      " 64  Subflow Fwd Bytes            529918 non-null  int64  \n",
      " 65  Subflow Bwd Packets          529918 non-null  int64  \n",
      " 66  Subflow Bwd Bytes            529918 non-null  int64  \n",
      " 67  Init_Win_bytes_forward       529918 non-null  int64  \n",
      " 68  Init_Win_bytes_backward      529918 non-null  int64  \n",
      " 69  act_data_pkt_fwd             529918 non-null  int64  \n",
      " 70  min_seg_size_forward         529918 non-null  int64  \n",
      " 71  Active Mean                  529918 non-null  float64\n",
      " 72  Active Std                   529918 non-null  float64\n",
      " 73  Active Max                   529918 non-null  float64\n",
      " 74  Active Min                   529918 non-null  float64\n",
      " 75  Idle Mean                    529918 non-null  float64\n",
      " 76  Idle Std                     529918 non-null  float64\n",
      " 77  Idle Max                     529918 non-null  float64\n",
      " 78  Idle Min                     529918 non-null  float64\n",
      " 79  Label                        529918 non-null  object \n",
      "dtypes: float64(45), int64(34), object(1)\n",
      "memory usage: 323.4+ MB\n"
     ]
    }
   ],
   "source": [
    "dataset_path = r\"CIC-IDS-2017\\CSVs\\GeneratedLabelledFlows\\TrafficLabelling\"\n",
    "file_path = os.path.join(dataset_path, \"Monday-WorkingHours.pcap_ISCX.csv\")\n",
    "df = pd.read_csv(file_path)\n",
    "# Remove space in column names using strip() function\n",
    "df.rename(columns=lambda x: x.strip(), inplace=True)\n",
    "# Remove columns unnecessary for machine learning\n",
    "df = df.drop(columns=['Flow ID', 'Source IP', 'Source Port', 'Destination IP', 'Timestamp'])\n",
    "df.head()\n",
    "df.info()"
   ]
  },
  {
   "cell_type": "markdown",
   "id": "626f7d32-7831-467a-9a16-31142b7858ea",
   "metadata": {},
   "source": [
    "Convert label type to category"
   ]
  },
  {
   "cell_type": "code",
   "execution_count": 3,
   "id": "2d48243b-ba3e-4a30-8cb9-7285fe30225a",
   "metadata": {},
   "outputs": [],
   "source": [
    "convert_dict = {'Label': 'category'}\n",
    "df = df.astype(convert_dict)"
   ]
  },
  {
   "cell_type": "markdown",
   "id": "fd5250b3-7e53-4a3c-aa8c-5402a036bef4",
   "metadata": {},
   "source": [
    "Check for infinity and null values in one of the columns"
   ]
  },
  {
   "cell_type": "code",
   "execution_count": 4,
   "id": "d7b7e3f5-620d-4f03-98cd-2fe0ba109e6e",
   "metadata": {},
   "outputs": [
    {
     "name": "stdout",
     "output_type": "stream",
     "text": [
      "Infinity values of flow_byts_s: 373\n",
      "Null values of flow_byts_s: 64\n"
     ]
    }
   ],
   "source": [
    "print(f\"Infinity values of flow_byts_s: {df[df['Flow Bytes/s'] == np.inf]['Destination Port'].count()}\")\n",
    "print(f\"Null values of flow_byts_s: {df[df['Flow Bytes/s'].isnull()]['Destination Port'].count()}\")"
   ]
  },
  {
   "cell_type": "markdown",
   "id": "a9f0485f-d804-4b97-b026-49138547b34c",
   "metadata": {},
   "source": [
    "## 2. Cleanup all Files"
   ]
  },
  {
   "cell_type": "markdown",
   "id": "88fe8276-83d7-4bb8-8928-47fcc0aed6b5",
   "metadata": {},
   "source": [
    "The \"Thursday-WorkingHours-Morning-WebAttacks.pcap_ISCX.csv\" contains a problematic character that has to be replaced before processing all files and empty lines at the end of the file."
   ]
  },
  {
   "cell_type": "code",
   "execution_count": 5,
   "id": "b9965651-b0f5-441a-8074-d19efd2d324c",
   "metadata": {},
   "outputs": [],
   "source": [
    "problematic_file = \"Thursday-WorkingHours-Morning-WebAttacks.pcap_ISCX.csv\"\n",
    "problematic_file_path = os.path.join(dataset_path, problematic_file)\n",
    "with open(problematic_file_path, 'rb') as file:\n",
    "    content = file.read()\n",
    "# Replace the problematic character (0x96) with a hyphen (-)\n",
    "content_fixed = content.replace(b'\\x96', b'-')\n",
    "# Split the content into lines and remove lines that contain only commas\n",
    "lines = content_fixed.decode('utf-8').split('\\n')\n",
    "cleaned_lines = [line for line in lines if not all(char == ',' for char in line.strip())]\n",
    "with open(problematic_file_path, 'wb') as file:\n",
    "    file.write('\\n'.join(cleaned_lines).encode('utf-8'))"
   ]
  },
  {
   "cell_type": "markdown",
   "id": "42e01073-48c6-4acb-8a24-1a59f15d9d6b",
   "metadata": {},
   "source": [
    "To cleanup the rest of the files:\n",
    "1. Trim column names of whitespaces and convert them to lowercase\n",
    "2. Drop the columns that are unnecessary for machine learning"
   ]
  },
  {
   "cell_type": "code",
   "execution_count": 6,
   "id": "0e6da83b-070b-49b7-84e0-82d2b85edd33",
   "metadata": {
    "scrolled": true
   },
   "outputs": [
    {
     "name": "stdout",
     "output_type": "stream",
     "text": [
      "Labels for file: Monday-WorkingHours.pcap_ISCX.csv\n",
      "label\n",
      "BENIGN    529918\n",
      "Name: count, dtype: int64\n",
      "Labels for file: Tuesday-WorkingHours.pcap_ISCX.csv\n",
      "label\n",
      "BENIGN         432074\n",
      "FTP-Patator      7938\n",
      "SSH-Patator      5897\n",
      "Name: count, dtype: int64\n",
      "Labels for file: Wednesday-workingHours.pcap_ISCX.csv\n",
      "label\n",
      "BENIGN              440031\n",
      "DoS Hulk            231073\n",
      "DoS GoldenEye        10293\n",
      "DoS slowloris         5796\n",
      "DoS Slowhttptest      5499\n",
      "Heartbleed              11\n",
      "Name: count, dtype: int64\n",
      "Labels for file: Thursday-WorkingHours-Morning-WebAttacks.pcap_ISCX.csv\n",
      "label\n",
      "BENIGN                        168186\n",
      "Web Attack - Brute Force        1507\n",
      "Web Attack - XSS                 652\n",
      "Web Attack - Sql Injection        21\n",
      "Name: count, dtype: int64\n",
      "Labels for file: Thursday-WorkingHours-Afternoon-Infilteration.pcap_ISCX.csv\n",
      "label\n",
      "BENIGN          288566\n",
      "Infiltration        36\n",
      "Name: count, dtype: int64\n",
      "Labels for file: Friday-WorkingHours-Morning.pcap_ISCX.csv\n",
      "label\n",
      "BENIGN    189067\n",
      "Bot         1966\n",
      "Name: count, dtype: int64\n",
      "Labels for file: Friday-WorkingHours-Afternoon-PortScan.pcap_ISCX.csv\n",
      "label\n",
      "PortScan    158930\n",
      "BENIGN      127537\n",
      "Name: count, dtype: int64\n",
      "Labels for file: Friday-WorkingHours-Afternoon-DDos.pcap_ISCX.csv\n",
      "label\n",
      "DDoS      128027\n",
      "BENIGN     97718\n",
      "Name: count, dtype: int64\n"
     ]
    }
   ],
   "source": [
    "import re\n",
    "files = {\n",
    "    \"Monday-WorkingHours.pcap_ISCX.csv\": \"Monday.csv\",\n",
    "    \"Tuesday-WorkingHours.pcap_ISCX.csv\": \"Tuesday.csv\",\n",
    "    \"Wednesday-workingHours.pcap_ISCX.csv\": \"Wednesday.csv\",\n",
    "    \"Thursday-WorkingHours-Morning-WebAttacks.pcap_ISCX.csv\": \"Thursday-Morning-WebAttacks.csv\",\n",
    "    \"Thursday-WorkingHours-Afternoon-Infilteration.pcap_ISCX.csv\": \"Thursday-Afternoon-Infiltration.csv\",\n",
    "    \"Friday-WorkingHours-Morning.pcap_ISCX.csv\": \"Friday-Morning.csv\",\n",
    "    \"Friday-WorkingHours-Afternoon-PortScan.pcap_ISCX.csv\": \"Friday-Afternoon-Portscan.csv\",\n",
    "    \"Friday-WorkingHours-Afternoon-DDos.pcap_ISCX.csv\": \"Friday-Afternoon-DDos.csv\"}\n",
    "column_name_regex = re.compile(r\"\\W\", re.IGNORECASE)\n",
    "processed_dir = \"processed\"\n",
    "processed_path = os.path.join(dataset_path, processed_dir)\n",
    "def trim_column_names(df):\n",
    "    return [column_name_regex.sub('_', c.lower()) for c in df.columns]\n",
    "if not os.path.exists(processed_path):\n",
    "    os.mkdir(processed_path) \n",
    "for file_in, file_out in files.items():\n",
    "    file_path = os.path.join(dataset_path, file_in)\n",
    "    output_path = os.path.join(processed_path, file_out)\n",
    "    df = pd.read_csv(file_path)\n",
    "    df.rename(columns=lambda x: x.strip(), inplace=True)\n",
    "    df = df.drop(columns=['Flow ID', 'Source IP', 'Source Port', 'Destination IP', 'Timestamp'])\n",
    "    df.columns = trim_column_names(df)\n",
    "    df.to_csv(output_path, index=False)\n",
    "    print(\"Labels for file:\", file_in)\n",
    "    print(df['label'].value_counts())"
   ]
  },
  {
   "cell_type": "markdown",
   "id": "407927a7-e351-450f-bf6c-e825db3f11a3",
   "metadata": {},
   "source": [
    "## 3. Data Preparation\n",
    "All of the processed datasets are grouped into one Pandas dataframe to analyze the content. The data is then saved into one single csv file."
   ]
  },
  {
   "cell_type": "code",
   "execution_count": 7,
   "id": "83766ebc-da09-44c7-8a65-fbf2e5d0c872",
   "metadata": {},
   "outputs": [],
   "source": [
    "import glob\n",
    "csv_files = glob.glob(os.path.join(processed_path, '*.csv'))\n",
    "df = pd.concat((pd.read_csv(f) for f in csv_files))"
   ]
  },
  {
   "cell_type": "code",
   "execution_count": 8,
   "id": "dfb957ba-a4c9-43f0-9037-e01a7050b698",
   "metadata": {},
   "outputs": [
    {
     "name": "stdout",
     "output_type": "stream",
     "text": [
      "<class 'pandas.core.frame.DataFrame'>\n",
      "Index: 2830743 entries, 0 to 225744\n",
      "Data columns (total 80 columns):\n",
      " #   Column                       Dtype  \n",
      "---  ------                       -----  \n",
      " 0   destination_port             int64  \n",
      " 1   protocol                     int64  \n",
      " 2   flow_duration                int64  \n",
      " 3   total_fwd_packets            int64  \n",
      " 4   total_backward_packets       int64  \n",
      " 5   total_length_of_fwd_packets  float64\n",
      " 6   total_length_of_bwd_packets  float64\n",
      " 7   fwd_packet_length_max        float64\n",
      " 8   fwd_packet_length_min        float64\n",
      " 9   fwd_packet_length_mean       float64\n",
      " 10  fwd_packet_length_std        float64\n",
      " 11  bwd_packet_length_max        float64\n",
      " 12  bwd_packet_length_min        float64\n",
      " 13  bwd_packet_length_mean       float64\n",
      " 14  bwd_packet_length_std        float64\n",
      " 15  flow_bytes_s                 float64\n",
      " 16  flow_packets_s               float64\n",
      " 17  flow_iat_mean                float64\n",
      " 18  flow_iat_std                 float64\n",
      " 19  flow_iat_max                 float64\n",
      " 20  flow_iat_min                 float64\n",
      " 21  fwd_iat_total                float64\n",
      " 22  fwd_iat_mean                 float64\n",
      " 23  fwd_iat_std                  float64\n",
      " 24  fwd_iat_max                  float64\n",
      " 25  fwd_iat_min                  float64\n",
      " 26  bwd_iat_total                float64\n",
      " 27  bwd_iat_mean                 float64\n",
      " 28  bwd_iat_std                  float64\n",
      " 29  bwd_iat_max                  float64\n",
      " 30  bwd_iat_min                  float64\n",
      " 31  fwd_psh_flags                int64  \n",
      " 32  bwd_psh_flags                int64  \n",
      " 33  fwd_urg_flags                int64  \n",
      " 34  bwd_urg_flags                int64  \n",
      " 35  fwd_header_length            int64  \n",
      " 36  bwd_header_length            int64  \n",
      " 37  fwd_packets_s                float64\n",
      " 38  bwd_packets_s                float64\n",
      " 39  min_packet_length            float64\n",
      " 40  max_packet_length            float64\n",
      " 41  packet_length_mean           float64\n",
      " 42  packet_length_std            float64\n",
      " 43  packet_length_variance       float64\n",
      " 44  fin_flag_count               int64  \n",
      " 45  syn_flag_count               int64  \n",
      " 46  rst_flag_count               int64  \n",
      " 47  psh_flag_count               int64  \n",
      " 48  ack_flag_count               int64  \n",
      " 49  urg_flag_count               int64  \n",
      " 50  cwe_flag_count               int64  \n",
      " 51  ece_flag_count               int64  \n",
      " 52  down_up_ratio                float64\n",
      " 53  average_packet_size          float64\n",
      " 54  avg_fwd_segment_size         float64\n",
      " 55  avg_bwd_segment_size         float64\n",
      " 56  fwd_header_length_1          int64  \n",
      " 57  fwd_avg_bytes_bulk           int64  \n",
      " 58  fwd_avg_packets_bulk         int64  \n",
      " 59  fwd_avg_bulk_rate            int64  \n",
      " 60  bwd_avg_bytes_bulk           int64  \n",
      " 61  bwd_avg_packets_bulk         int64  \n",
      " 62  bwd_avg_bulk_rate            int64  \n",
      " 63  subflow_fwd_packets          int64  \n",
      " 64  subflow_fwd_bytes            int64  \n",
      " 65  subflow_bwd_packets          int64  \n",
      " 66  subflow_bwd_bytes            int64  \n",
      " 67  init_win_bytes_forward       int64  \n",
      " 68  init_win_bytes_backward      int64  \n",
      " 69  act_data_pkt_fwd             int64  \n",
      " 70  min_seg_size_forward         int64  \n",
      " 71  active_mean                  float64\n",
      " 72  active_std                   float64\n",
      " 73  active_max                   float64\n",
      " 74  active_min                   float64\n",
      " 75  idle_mean                    float64\n",
      " 76  idle_std                     float64\n",
      " 77  idle_max                     float64\n",
      " 78  idle_min                     float64\n",
      " 79  label                        object \n",
      "dtypes: float64(45), int64(34), object(1)\n",
      "memory usage: 1.7+ GB\n"
     ]
    }
   ],
   "source": [
    "df.head()\n",
    "df.info()"
   ]
  },
  {
   "cell_type": "markdown",
   "id": "30f18d75-857b-4f60-bf22-573e01c00d9c",
   "metadata": {},
   "source": [
    "#### Creating labels for the attacks"
   ]
  },
  {
   "cell_type": "code",
   "execution_count": 9,
   "id": "54733484-b94e-44e8-960c-47538cddc976",
   "metadata": {},
   "outputs": [
    {
     "name": "stdout",
     "output_type": "stream",
     "text": [
      "<class 'pandas.core.frame.DataFrame'>\n",
      "Index: 2830743 entries, 0 to 225744\n",
      "Data columns (total 96 columns):\n",
      " #   Column                       Dtype   \n",
      "---  ------                       -----   \n",
      " 0   destination_port             int64   \n",
      " 1   protocol                     int64   \n",
      " 2   flow_duration                int64   \n",
      " 3   total_fwd_packets            int64   \n",
      " 4   total_backward_packets       int64   \n",
      " 5   total_length_of_fwd_packets  float64 \n",
      " 6   total_length_of_bwd_packets  float64 \n",
      " 7   fwd_packet_length_max        float64 \n",
      " 8   fwd_packet_length_min        float64 \n",
      " 9   fwd_packet_length_mean       float64 \n",
      " 10  fwd_packet_length_std        float64 \n",
      " 11  bwd_packet_length_max        float64 \n",
      " 12  bwd_packet_length_min        float64 \n",
      " 13  bwd_packet_length_mean       float64 \n",
      " 14  bwd_packet_length_std        float64 \n",
      " 15  flow_bytes_s                 float64 \n",
      " 16  flow_packets_s               float64 \n",
      " 17  flow_iat_mean                float64 \n",
      " 18  flow_iat_std                 float64 \n",
      " 19  flow_iat_max                 float64 \n",
      " 20  flow_iat_min                 float64 \n",
      " 21  fwd_iat_total                float64 \n",
      " 22  fwd_iat_mean                 float64 \n",
      " 23  fwd_iat_std                  float64 \n",
      " 24  fwd_iat_max                  float64 \n",
      " 25  fwd_iat_min                  float64 \n",
      " 26  bwd_iat_total                float64 \n",
      " 27  bwd_iat_mean                 float64 \n",
      " 28  bwd_iat_std                  float64 \n",
      " 29  bwd_iat_max                  float64 \n",
      " 30  bwd_iat_min                  float64 \n",
      " 31  fwd_psh_flags                int64   \n",
      " 32  bwd_psh_flags                int64   \n",
      " 33  fwd_urg_flags                int64   \n",
      " 34  bwd_urg_flags                int64   \n",
      " 35  fwd_header_length            int64   \n",
      " 36  bwd_header_length            int64   \n",
      " 37  fwd_packets_s                float64 \n",
      " 38  bwd_packets_s                float64 \n",
      " 39  min_packet_length            float64 \n",
      " 40  max_packet_length            float64 \n",
      " 41  packet_length_mean           float64 \n",
      " 42  packet_length_std            float64 \n",
      " 43  packet_length_variance       float64 \n",
      " 44  fin_flag_count               int64   \n",
      " 45  syn_flag_count               int64   \n",
      " 46  rst_flag_count               int64   \n",
      " 47  psh_flag_count               int64   \n",
      " 48  ack_flag_count               int64   \n",
      " 49  urg_flag_count               int64   \n",
      " 50  cwe_flag_count               int64   \n",
      " 51  ece_flag_count               int64   \n",
      " 52  down_up_ratio                float64 \n",
      " 53  average_packet_size          float64 \n",
      " 54  avg_fwd_segment_size         float64 \n",
      " 55  avg_bwd_segment_size         float64 \n",
      " 56  fwd_header_length_1          int64   \n",
      " 57  fwd_avg_bytes_bulk           int64   \n",
      " 58  fwd_avg_packets_bulk         int64   \n",
      " 59  fwd_avg_bulk_rate            int64   \n",
      " 60  bwd_avg_bytes_bulk           int64   \n",
      " 61  bwd_avg_packets_bulk         int64   \n",
      " 62  bwd_avg_bulk_rate            int64   \n",
      " 63  subflow_fwd_packets          int64   \n",
      " 64  subflow_fwd_bytes            int64   \n",
      " 65  subflow_bwd_packets          int64   \n",
      " 66  subflow_bwd_bytes            int64   \n",
      " 67  init_win_bytes_forward       int64   \n",
      " 68  init_win_bytes_backward      int64   \n",
      " 69  act_data_pkt_fwd             int64   \n",
      " 70  min_seg_size_forward         int64   \n",
      " 71  active_mean                  float64 \n",
      " 72  active_std                   float64 \n",
      " 73  active_max                   float64 \n",
      " 74  active_min                   float64 \n",
      " 75  idle_mean                    float64 \n",
      " 76  idle_std                     float64 \n",
      " 77  idle_max                     float64 \n",
      " 78  idle_min                     float64 \n",
      " 79  label                        category\n",
      " 80  is_attack                    int64   \n",
      " 81  label_code                   int8    \n",
      " 82  is_dos_hulk                  int64   \n",
      " 83  is_portscan                  int64   \n",
      " 84  is_ddos                      int64   \n",
      " 85  is_dos_goldeneye             int64   \n",
      " 86  is_ftppatator                int64   \n",
      " 87  is_sshpatator                int64   \n",
      " 88  is_dos_slowloris             int64   \n",
      " 89  is_dos_slowhttptest          int64   \n",
      " 90  is_bot                       int64   \n",
      " 91  is_web_attack_brute_force    int64   \n",
      " 92  is_web_attack_xss            int64   \n",
      " 93  is_infiltration              int64   \n",
      " 94  is_web_attack_sql_injection  int64   \n",
      " 95  is_heartbleed                int64   \n",
      "dtypes: category(1), float64(45), int64(49), int8(1)\n",
      "memory usage: 2.0 GB\n"
     ]
    }
   ],
   "source": [
    "import re\n",
    "df['is_attack'] = df.label.apply(lambda x: 0 if x == \"BENIGN\" else 1)\n",
    "convert_dict = {'label': 'category'}\n",
    "df = df.astype(convert_dict)\n",
    "# Having attack types as integers can be helpful for some machine learning algorithms\n",
    "df['label_code'] = df['label'].cat.codes\n",
    "attacks = df[\"label\"].value_counts().index.tolist()\n",
    "for attack in attacks:\n",
    "    if attack != \"BENIGN\":\n",
    "        attack = attack.lower().replace('-', '')\n",
    "        l = \"is_\" + re.sub(r'\\s+', '_', attack)\n",
    "        df[l] = df.label.apply(lambda x: 1 if x == attack else 0)\n",
    "df.info(verbose = True)"
   ]
  },
  {
   "cell_type": "markdown",
   "id": "53374b09-53aa-4610-9a4c-5e5726e1c956",
   "metadata": {},
   "source": [
    "#### Saving the grouped dataset to a single file"
   ]
  },
  {
   "cell_type": "code",
   "execution_count": 10,
   "id": "d7b57936-b185-4cb8-864b-736845b5c0eb",
   "metadata": {},
   "outputs": [],
   "source": [
    "output_path = os.path.join(processed_path, \"ids2017_processed.csv\")\n",
    "df.to_csv(output_path, index = False)"
   ]
  }
 ],
 "metadata": {
  "kernelspec": {
   "display_name": "Python 3 (ipykernel)",
   "language": "python",
   "name": "python3"
  },
  "language_info": {
   "codemirror_mode": {
    "name": "ipython",
    "version": 3
   },
   "file_extension": ".py",
   "mimetype": "text/x-python",
   "name": "python",
   "nbconvert_exporter": "python",
   "pygments_lexer": "ipython3",
   "version": "3.12.2"
  }
 },
 "nbformat": 4,
 "nbformat_minor": 5
}

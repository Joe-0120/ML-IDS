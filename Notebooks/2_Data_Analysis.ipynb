{
 "cells": [
  {
   "cell_type": "markdown",
   "id": "a72b9d12-611d-43c9-a943-f8c0217227f1",
   "metadata": {},
   "source": [
    "# Analyzing the dataset"
   ]
  },
  {
   "cell_type": "markdown",
   "id": "500a140a-bef9-44bc-a788-994ba6dea34d",
   "metadata": {},
   "source": [
    "After processing and cleaning the files, we load the full dataset to analyze basic information about the traffic before applying machine learning algorithms."
   ]
  },
  {
   "cell_type": "code",
   "execution_count": 4,
   "id": "e844b19e-b7ac-4199-bb20-ed07d015bca8",
   "metadata": {},
   "outputs": [],
   "source": [
    "import numpy as np\n",
    "import pandas as pd\n",
    "import matplotlib.pyplot as plt\n",
    "import glob\n",
    "import os"
   ]
  }
 ],
 "metadata": {
  "kernelspec": {
   "display_name": "Python 3 (ipykernel)",
   "language": "python",
   "name": "python3"
  },
  "language_info": {
   "codemirror_mode": {
    "name": "ipython",
    "version": 3
   },
   "file_extension": ".py",
   "mimetype": "text/x-python",
   "name": "python",
   "nbconvert_exporter": "python",
   "pygments_lexer": "ipython3",
   "version": "3.12.2"
  }
 },
 "nbformat": 4,
 "nbformat_minor": 5
}

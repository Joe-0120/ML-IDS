{
 "cells": [
  {
   "cell_type": "markdown",
   "id": "8ce3edfa-0052-42e4-9b04-4e7d39e4a794",
   "metadata": {},
   "source": [
    "# Testing the Models on the IDS-2018 Dataset"
   ]
  },
  {
   "cell_type": "code",
   "execution_count": null,
   "id": "e0aaf8ea-3ba9-4070-a325-7b80c78f0a80",
   "metadata": {},
   "outputs": [],
   "source": []
  }
 ],
 "metadata": {
  "kernelspec": {
   "display_name": "Python 3 (ipykernel)",
   "language": "python",
   "name": "python3"
  },
  "language_info": {
   "codemirror_mode": {
    "name": "ipython",
    "version": 3
   },
   "file_extension": ".py",
   "mimetype": "text/x-python",
   "name": "python",
   "nbconvert_exporter": "python",
   "pygments_lexer": "ipython3",
   "version": "3.12.2"
  }
 },
 "nbformat": 4,
 "nbformat_minor": 5
}

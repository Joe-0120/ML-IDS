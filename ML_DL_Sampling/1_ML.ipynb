{
 "cells": [
  {
   "cell_type": "markdown",
   "id": "0435c7d4-af9e-4483-8185-ea8de819d0ae",
   "metadata": {},
   "source": [
    "# Machine Learning Models on the ids 2017"
   ]
  },
  {
   "cell_type": "markdown",
   "id": "87e895fe-2d88-4cc5-bb2c-70a6bf240e41",
   "metadata": {},
   "source": [
    "In this notebook, random tree and random forest based machine learning algorithms are applied to the ids2017 dataset. Several methods for resolving the class imbalance are tested. Random tree algorithms were chosen for their effectiveness and the training time which were better than other machine learning models. "
   ]
  },
  {
   "cell_type": "code",
   "execution_count": 7,
   "id": "f5c97528-2e03-4caa-9ae4-b589d94294d1",
   "metadata": {},
   "outputs": [
    {
     "name": "stdout",
     "output_type": "stream",
     "text": [
      "The autoreload extension is already loaded. To reload it, use:\n",
      "  %reload_ext autoreload\n"
     ]
    }
   ],
   "source": [
    "import numpy as np\n",
    "import pandas as pd\n",
    "import matplotlib.pyplot as plt\n",
    "import seaborn as sns\n",
    "import glob\n",
    "import os\n",
    "import xgboost as xgb\n",
    "from sklearn.model_selection import train_test_split, RandomizedSearchCV\n",
    "from sklearn.preprocessing import StandardScaler\n",
    "from sklearn.ensemble import RandomForestClassifier\n",
    "from sklearn.tree import DecisionTreeClassifier\n",
    "from sklearn.metrics import classification_report, average_precision_score, make_scorer, precision_score, accuracy_score, confusion_matrix\n",
    "from notebook_utils import upsample_dataset\n",
    "%matplotlib inline\n",
    "%load_ext autoreload\n",
    "%autoreload 2\n",
    "file_path = r\"..\\CIC-IDS-2017\\CSVs\\GeneratedLabelledFlows\\TrafficLabelling\\processed\\ids2017_processed.csv\"\n",
    "\n",
    "def load_dataset(file_path):\n",
    "    df = pd.read_csv(file_path)\n",
    "    convert_dict = {'label': 'category'}\n",
    "    df = df.astype(convert_dict)\n",
    "    df.info()\n",
    "    return df\n",
    "\n",
    "attack_labels = {\n",
    "    0: 'BENIGN',\n",
    "    7: 'FTP-Patator',\n",
    "    11: 'SSH-Patator',\n",
    "    6: 'DoS slowloris',\n",
    "    5: 'DoS Slowhttptest',\n",
    "    4: 'DoS Hulk',\n",
    "    3: 'DoS GoldenEye',\n",
    "    8: 'Heartbleed',\n",
    "    12: 'Web Attack - Brute Force',\n",
    "    14: 'Web Attack - XSS',\n",
    "    13: 'Web Attack - Sql Injection',\n",
    "    9: 'Infiltration',\n",
    "    1: 'Bot',\n",
    "    10: 'PortScan',\n",
    "    2: 'DDoS'\n",
    "}"
   ]
  },
  {
   "cell_type": "markdown",
   "id": "2011b280-971a-483a-88a5-d614fb800d17",
   "metadata": {},
   "source": [
    "## Preparing the Dataset"
   ]
  },
  {
   "cell_type": "code",
   "execution_count": 8,
   "id": "56572abf-6944-4fb3-bc25-a498a1cb35b2",
   "metadata": {},
   "outputs": [
    {
     "name": "stdout",
     "output_type": "stream",
     "text": [
      "<class 'pandas.core.frame.DataFrame'>\n",
      "RangeIndex: 2830743 entries, 0 to 2830742\n",
      "Data columns (total 96 columns):\n",
      " #   Column                       Dtype   \n",
      "---  ------                       -----   \n",
      " 0   destination_port             int64   \n",
      " 1   protocol                     int64   \n",
      " 2   flow_duration                int64   \n",
      " 3   total_fwd_packets            int64   \n",
      " 4   total_backward_packets       int64   \n",
      " 5   total_length_of_fwd_packets  float64 \n",
      " 6   total_length_of_bwd_packets  float64 \n",
      " 7   fwd_packet_length_max        float64 \n",
      " 8   fwd_packet_length_min        float64 \n",
      " 9   fwd_packet_length_mean       float64 \n",
      " 10  fwd_packet_length_std        float64 \n",
      " 11  bwd_packet_length_max        float64 \n",
      " 12  bwd_packet_length_min        float64 \n",
      " 13  bwd_packet_length_mean       float64 \n",
      " 14  bwd_packet_length_std        float64 \n",
      " 15  flow_bytes_s                 float64 \n",
      " 16  flow_packets_s               float64 \n",
      " 17  flow_iat_mean                float64 \n",
      " 18  flow_iat_std                 float64 \n",
      " 19  flow_iat_max                 float64 \n",
      " 20  flow_iat_min                 float64 \n",
      " 21  fwd_iat_total                float64 \n",
      " 22  fwd_iat_mean                 float64 \n",
      " 23  fwd_iat_std                  float64 \n",
      " 24  fwd_iat_max                  float64 \n",
      " 25  fwd_iat_min                  float64 \n",
      " 26  bwd_iat_total                float64 \n",
      " 27  bwd_iat_mean                 float64 \n",
      " 28  bwd_iat_std                  float64 \n",
      " 29  bwd_iat_max                  float64 \n",
      " 30  bwd_iat_min                  float64 \n",
      " 31  fwd_psh_flags                int64   \n",
      " 32  bwd_psh_flags                int64   \n",
      " 33  fwd_urg_flags                int64   \n",
      " 34  bwd_urg_flags                int64   \n",
      " 35  fwd_header_length            int64   \n",
      " 36  bwd_header_length            int64   \n",
      " 37  fwd_packets_s                float64 \n",
      " 38  bwd_packets_s                float64 \n",
      " 39  min_packet_length            float64 \n",
      " 40  max_packet_length            float64 \n",
      " 41  packet_length_mean           float64 \n",
      " 42  packet_length_std            float64 \n",
      " 43  packet_length_variance       float64 \n",
      " 44  fin_flag_count               int64   \n",
      " 45  syn_flag_count               int64   \n",
      " 46  rst_flag_count               int64   \n",
      " 47  psh_flag_count               int64   \n",
      " 48  ack_flag_count               int64   \n",
      " 49  urg_flag_count               int64   \n",
      " 50  cwe_flag_count               int64   \n",
      " 51  ece_flag_count               int64   \n",
      " 52  down_up_ratio                float64 \n",
      " 53  average_packet_size          float64 \n",
      " 54  avg_fwd_segment_size         float64 \n",
      " 55  avg_bwd_segment_size         float64 \n",
      " 56  fwd_header_length_1          int64   \n",
      " 57  fwd_avg_bytes_bulk           int64   \n",
      " 58  fwd_avg_packets_bulk         int64   \n",
      " 59  fwd_avg_bulk_rate            int64   \n",
      " 60  bwd_avg_bytes_bulk           int64   \n",
      " 61  bwd_avg_packets_bulk         int64   \n",
      " 62  bwd_avg_bulk_rate            int64   \n",
      " 63  subflow_fwd_packets          int64   \n",
      " 64  subflow_fwd_bytes            int64   \n",
      " 65  subflow_bwd_packets          int64   \n",
      " 66  subflow_bwd_bytes            int64   \n",
      " 67  init_win_bytes_forward       int64   \n",
      " 68  init_win_bytes_backward      int64   \n",
      " 69  act_data_pkt_fwd             int64   \n",
      " 70  min_seg_size_forward         int64   \n",
      " 71  active_mean                  float64 \n",
      " 72  active_std                   float64 \n",
      " 73  active_max                   float64 \n",
      " 74  active_min                   float64 \n",
      " 75  idle_mean                    float64 \n",
      " 76  idle_std                     float64 \n",
      " 77  idle_max                     float64 \n",
      " 78  idle_min                     float64 \n",
      " 79  label                        category\n",
      " 80  is_attack                    int64   \n",
      " 81  label_code                   int64   \n",
      " 82  is_dos_hulk                  int64   \n",
      " 83  is_portscan                  int64   \n",
      " 84  is_ddos                      int64   \n",
      " 85  is_dos_goldeneye             int64   \n",
      " 86  is_ftppatator                int64   \n",
      " 87  is_sshpatator                int64   \n",
      " 88  is_dos_slowloris             int64   \n",
      " 89  is_dos_slowhttptest          int64   \n",
      " 90  is_bot                       int64   \n",
      " 91  is_web_attack_brute_force    int64   \n",
      " 92  is_web_attack_xss            int64   \n",
      " 93  is_infiltration              int64   \n",
      " 94  is_web_attack_sql_injection  int64   \n",
      " 95  is_heartbleed                int64   \n",
      "dtypes: category(1), float64(45), int64(50)\n",
      "memory usage: 2.0 GB\n"
     ]
    }
   ],
   "source": [
    "df = load_dataset(file_path)"
   ]
  },
  {
   "cell_type": "markdown",
   "id": "56819790-5738-4a49-9292-e4d2e700672e",
   "metadata": {},
   "source": [
    "#### Check for invalid values"
   ]
  },
  {
   "cell_type": "code",
   "execution_count": 12,
   "id": "d3cc129d-14c4-4597-8c7f-6e4b65379007",
   "metadata": {},
   "outputs": [
    {
     "name": "stdout",
     "output_type": "stream",
     "text": [
      "Columns with NaN values: ['flow_bytes_s']\n",
      "Columns with infinite values: ['flow_bytes_s', 'flow_packets_s']\n",
      "Columns with negative values: ['flow_duration', 'flow_bytes_s', 'flow_packets_s', 'flow_iat_mean', 'flow_iat_max', 'flow_iat_min', 'fwd_iat_min', 'fwd_header_length', 'bwd_header_length', 'fwd_header_length_1', 'init_win_bytes_forward', 'init_win_bytes_backward', 'min_seg_size_forward']\n",
      "Percentage of NaN values in each column:\n",
      " flow_bytes_s    0.047973\n",
      "dtype: float64\n",
      "Percentage of infinite values in each column:\n",
      " flow_bytes_s      0.053308\n",
      "flow_packets_s    0.101281\n",
      "dtype: float64\n",
      "Percentage of negative values in each column:\n",
      " flow_duration               0.004063\n",
      "flow_bytes_s                0.003003\n",
      "flow_packets_s              0.004063\n",
      "flow_iat_mean               0.004063\n",
      "flow_iat_max                0.004063\n",
      "flow_iat_min                0.102129\n",
      "fwd_iat_min                 0.000601\n",
      "fwd_header_length           0.001236\n",
      "bwd_header_length           0.000777\n",
      "fwd_header_length_1         0.001236\n",
      "init_win_bytes_forward     35.368417\n",
      "init_win_bytes_backward    50.924863\n",
      "min_seg_size_forward        0.001236\n",
      "dtype: float64\n"
     ]
    }
   ],
   "source": [
    "# Select only numeric columns\n",
    "numeric_columns = df.select_dtypes(include=[np.number]).columns\n",
    "\n",
    "# Identify columns with NaN, infinity, or negative values\n",
    "nan_columns = df[numeric_columns].columns[df[numeric_columns].isna().any()]\n",
    "inf_columns = df[numeric_columns].columns[np.isinf(df[numeric_columns]).any()]\n",
    "neg_columns = df[numeric_columns].columns[(df[numeric_columns] < 0).any()]\n",
    "\n",
    "print(\"Columns with NaN values:\", nan_columns.tolist())\n",
    "print(\"Columns with infinite values:\", inf_columns.tolist())\n",
    "print(\"Columns with negative values:\", neg_columns.tolist())\n",
    "\n",
    "# Calculate the percentage of NaN, infinite, and negative values\n",
    "nan_percentage = df[nan_columns].isna().mean() * 100\n",
    "inf_percentage = df[inf_columns].map(lambda x: np.isinf(x)).mean() * 100\n",
    "neg_percentage = df[neg_columns].map(lambda x: x < 0).mean() * 100\n",
    "\n",
    "print(\"Percentage of NaN values in each column:\\n\", nan_percentage)\n",
    "print(\"Percentage of infinite values in each column:\\n\", inf_percentage)\n",
    "print(\"Percentage of negative values in each column:\\n\", neg_percentage)\n"
   ]
  },
  {
   "cell_type": "markdown",
   "id": "040556a4-052a-4169-b00d-2ff8fe3288fd",
   "metadata": {},
   "source": [
    "Given the low percentage of null values in only one column (0.4%), it is safe to drop the rows with NaN values. The same applies to th infinite values. For negative values, 2 columns have an extremely high percentage of negative values. We choose to drop the features \"init_win_bytes_forward\" and \"init_win_bytes_backward\" as the source of the negative sign is unknown. For the rest of the features, the percentages are low so the rows with negative values are dropped."
   ]
  },
  {
   "cell_type": "code",
   "execution_count": 13,
   "id": "97f156f8-f8e1-4904-805d-52f62e1682d0",
   "metadata": {},
   "outputs": [],
   "source": [
    "def replace_invalid(df):\n",
    "    # Select only numeric columns\n",
    "    numeric_columns = df.select_dtypes(include=[np.number]).columns\n",
    "    \n",
    "    # Identify columns with NaN, infinite, or negative values\n",
    "    nan_columns = df[numeric_columns].columns[df[numeric_columns].isna().any()]\n",
    "    inf_columns = df[numeric_columns].columns[np.isinf(df[numeric_columns]).any()]\n",
    "    neg_columns = df[numeric_columns].columns[(df[numeric_columns] < 0).any()]\n",
    "\n",
    "    # Drop rows with NaN values (low percentage of NaN values)\n",
    "    df = df.dropna(subset=nan_columns)\n",
    "\n",
    "    # Drop rows with infinite values (assuming low percentage)\n",
    "    for col in inf_columns:\n",
    "        df = df[np.isfinite(df[col])]\n",
    "\n",
    "    # Drop columns with a high percentage of negative values\n",
    "    columns_to_drop = ['init_win_bytes_forward', 'init_win_bytes_backward']\n",
    "    df = df.drop(columns=columns_to_drop)\n",
    "\n",
    "    # Drop rows with negative values in the remaining columns\n",
    "    remaining_neg_columns = [col for col in neg_columns if col not in columns_to_drop]\n",
    "    for col in remaining_neg_columns:\n",
    "        df = df[df[col] >= 0]\n",
    "    \n",
    "    return df"
   ]
  },
  {
   "cell_type": "code",
   "execution_count": 14,
   "id": "e66ed829-a6aa-4066-b2d7-a674560cbf6d",
   "metadata": {},
   "outputs": [],
   "source": [
    "df = replace_invalid(df)"
   ]
  },
  {
   "cell_type": "markdown",
   "id": "b315a5d0-dd5d-48d8-af89-5a16a90c0b22",
   "metadata": {},
   "source": [
    "## Feature Selection"
   ]
  }
 ],
 "metadata": {
  "kernelspec": {
   "display_name": "Python 3 (ipykernel)",
   "language": "python",
   "name": "python3"
  },
  "language_info": {
   "codemirror_mode": {
    "name": "ipython",
    "version": 3
   },
   "file_extension": ".py",
   "mimetype": "text/x-python",
   "name": "python",
   "nbconvert_exporter": "python",
   "pygments_lexer": "ipython3",
   "version": "3.12.2"
  }
 },
 "nbformat": 4,
 "nbformat_minor": 5
}

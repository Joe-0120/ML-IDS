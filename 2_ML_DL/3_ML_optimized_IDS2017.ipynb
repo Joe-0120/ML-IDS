{
 "cells": [
  {
   "cell_type": "markdown",
   "id": "609c8b08-143d-4a6e-87ea-2692ad1f5a9b",
   "metadata": {},
   "source": [
    "# Training ML Models on the IDS2017 Dataset with Hyperparameter Optimization"
   ]
  },
  {
   "cell_type": "markdown",
   "id": "816aba85-7151-46c2-820a-2738739bea31",
   "metadata": {},
   "source": [
    "After experimenting various models based on random trees and random forests, with multiple resampling techniques for handling imbalance, the ADASYN method increased accuracy of detection for underrepresentend attacks. In this notebook, random forests, random trees and xgboost with ADASYN for generating synthetic samples are trained with hyperpamater optimization."
   ]
  }
 ],
 "metadata": {
  "kernelspec": {
   "display_name": "Python 3 (ipykernel)",
   "language": "python",
   "name": "python3"
  },
  "language_info": {
   "codemirror_mode": {
    "name": "ipython",
    "version": 3
   },
   "file_extension": ".py",
   "mimetype": "text/x-python",
   "name": "python",
   "nbconvert_exporter": "python",
   "pygments_lexer": "ipython3",
   "version": "3.12.2"
  }
 },
 "nbformat": 4,
 "nbformat_minor": 5
}

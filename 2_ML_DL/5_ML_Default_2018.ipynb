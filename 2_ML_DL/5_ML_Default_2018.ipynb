{
 "cells": [
  {
   "cell_type": "markdown",
   "id": "fbbc366f-8000-470d-bc48-42b978854e54",
   "metadata": {},
   "source": [
    "# Machine Learning Models on the IDS 2018"
   ]
  },
  {
   "cell_type": "markdown",
   "id": "7ba23740-21e7-4172-99fb-3b3cc3ac4914",
   "metadata": {},
   "source": [
    "In this notebook, random tree and random forest based machine learning algorithms are applied\n",
    "to the ids2018 dataset. Several methods for resolving the class imbalance are tested. Random\n",
    "tree algorithms were chosen for their effectiveness and the training time which were better than\n",
    "other machine learning models. RT and RF based algorithms performed better in the preliminary\n",
    "experiments\n"
   ]
  },
  {
   "cell_type": "code",
   "execution_count": null,
   "id": "90afc897-6301-4784-9991-554949bfc9b6",
   "metadata": {},
   "outputs": [],
   "source": [
    "import numpy as np\n",
    "import pandas as pd\n",
    "import matplotlib.pyplot as plt\n",
    "import seaborn as sns\n",
    "import glob\n",
    "import os\n",
    "import xgboost as xgb\n",
    "from sklearn.model_selection import train_test_split, RandomizedSearchCV\n",
    "from sklearn.preprocessing import StandardScaler\n",
    "from sklearn.ensemble import RandomForestClassifier\n",
    "from sklearn.tree import DecisionTreeClassifier\n",
    "from sklearn.metrics import classification_report, average_precision_score, make_scorer, precision_score, accuracy\n",
    "%matplotlib inline\n",
    "%load_ext autoreload\n",
    "%autoreload 2\n",
    "\n",
    "file_path = r\"..\\CIC-IDS-2018\\Processed Traffic Data for ML Algorithms\"\n",
    "\n",
    "df = load_sample_dataset_2018(file_path)"
   ]
  }
 ],
 "metadata": {
  "kernelspec": {
   "display_name": "Python 3 (ipykernel)",
   "language": "python",
   "name": "python3"
  },
  "language_info": {
   "codemirror_mode": {
    "name": "ipython",
    "version": 3
   },
   "file_extension": ".py",
   "mimetype": "text/x-python",
   "name": "python",
   "nbconvert_exporter": "python",
   "pygments_lexer": "ipython3",
   "version": "3.12.2"
  }
 },
 "nbformat": 4,
 "nbformat_minor": 5
}
